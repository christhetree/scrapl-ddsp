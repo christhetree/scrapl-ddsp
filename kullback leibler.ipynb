{
 "cells": [
  {
   "cell_type": "code",
   "execution_count": 1,
   "metadata": {},
   "outputs": [
    {
     "name": "stdout",
     "output_type": "stream",
     "text": [
      "CQT kernels created, time used = 0.0224 seconds\n",
      "CQT kernels created, time used = 0.0233 seconds\n",
      "CQT kernels created, time used = 0.0244 seconds\n"
     ]
    }
   ],
   "source": [
    "from kymatio.torch import TimeFrequencyScattering\n",
    "from matplotlib import pyplot as plt\n",
    "import numpy as np\n",
    "import pandas as pd\n",
    "import sys\n",
    "import torch\n",
    "import tqdm\n",
    "\n",
    "import cnn\n",
    "import synth\n",
    "\n",
    "# duration = 4\n",
    "# event_duration = 2**(-4)\n",
    "# sr = 2**13\n",
    "# fmin = 2**8\n",
    "# fmax = 2**11\n",
    "# Q = 24\n",
    "# hop_length = 2**6\n",
    "# n_events = 2**6\n",
    "\n",
    "n_densities = 7\n",
    "n_slopes = 1\n",
    "n_folds = n_densities * n_slopes\n",
    "batch_size = 1\n",
    "\n",
    "dataset = cnn.ChirpTextureDataModule(\n",
    "    n_densities=n_densities,\n",
    "    n_slopes=n_slopes,\n",
    "    n_folds=n_folds,\n",
    "    batch_size=batch_size)\n",
    "dataset.setup()\n",
    "\n",
    "def scattering_audio_distance(x, y, S2y, sc):\n",
    "    Sx = sc(x)\n",
    "    meta = sc.meta()\n",
    "    S2x = torch.stack([Sx[key] for key, order in zip(meta['key'], meta['order']) if order==2]).squeeze()\n",
    "    # inspired by Engel et al. ICLR 2020\n",
    "    eps = 1e-5\n",
    "    lin_distance = torch.linalg.vector_norm(S2x - S2y, ord=1)\n",
    "    log_distance = torch.linalg.vector_norm(torch.log(eps+S2x) - torch.log(eps+S2y), ord=1)\n",
    "    return lin_distance + log_distance"
   ]
  },
  {
   "cell_type": "code",
   "execution_count": 2,
   "metadata": {},
   "outputs": [],
   "source": [
    "sc = TimeFrequencyScattering(\n",
    "    shape=(2**15),\n",
    "    J=6,\n",
    "    Q=(24, 2),\n",
    "    Q_fr=2,\n",
    "    J_fr=6,\n",
    "    T='global',\n",
    "    F='global',\n",
    "    format='time',\n",
    "    out_type='dict'\n",
    ")\n",
    "\n",
    "y = synth.generate_chirp_texture(\n",
    "    theta_density=torch.tensor(0.5),\n",
    "    theta_slope=torch.tensor(0.),\n",
    "    duration=dataset.train_ds.duration,\n",
    "    event_duration=dataset.train_ds.event_duration,\n",
    "    sr=dataset.train_ds.sr,\n",
    "    fmin=dataset.train_ds.fmin,\n",
    "    fmax=dataset.train_ds.fmax,\n",
    "    n_events=dataset.train_ds.n_events,\n",
    "    Q=dataset.train_ds.Q,\n",
    "    hop_length=dataset.train_ds.hop_length,\n",
    "    seed=0,\n",
    ")\n",
    "\n",
    "Sy = sc(y)\n",
    "meta = sc.meta()\n",
    "S2y = torch.stack([Sy[key] for key, order in zip(meta['key'], meta['order']) if order==2]).squeeze()"
   ]
  },
  {
   "cell_type": "code",
   "execution_count": 3,
   "metadata": {},
   "outputs": [
    {
     "name": "stderr",
     "output_type": "stream",
     "text": [
      "0it [00:37, ?it/s]\n"
     ]
    },
    {
     "ename": "TypeError",
     "evalue": "linalg_norm() received an invalid combination of arguments - got (Tensor, p=float), but expected one of:\n * (Tensor input, Number ord, tuple of ints dim, bool keepdim, *, torch.dtype dtype, Tensor out)\n * (Tensor input, str ord, tuple of ints dim, bool keepdim, *, torch.dtype dtype, Tensor out)\n",
     "output_type": "error",
     "traceback": [
      "\u001b[0;31m---------------------------------------------------------------------------\u001b[0m",
      "\u001b[0;31mTypeError\u001b[0m                                 Traceback (most recent call last)",
      "Cell \u001b[0;32mIn[3], line 23\u001b[0m\n\u001b[1;32m      9\u001b[0m theta_slope \u001b[39m=\u001b[39m torch\u001b[39m.\u001b[39mtensor(row[\u001b[39m\"\u001b[39m\u001b[39mslope\u001b[39m\u001b[39m\"\u001b[39m], requires_grad\u001b[39m=\u001b[39m\u001b[39mFalse\u001b[39;00m)\n\u001b[1;32m     10\u001b[0m x \u001b[39m=\u001b[39m synth\u001b[39m.\u001b[39mgenerate_chirp_texture(\n\u001b[1;32m     11\u001b[0m     theta_density\u001b[39m=\u001b[39mtheta_density,\n\u001b[1;32m     12\u001b[0m     theta_slope\u001b[39m=\u001b[39mtheta_slope,\n\u001b[0;32m   (...)\u001b[0m\n\u001b[1;32m     21\u001b[0m     seed\u001b[39m=\u001b[39mseed,\n\u001b[1;32m     22\u001b[0m )\n\u001b[0;32m---> 23\u001b[0m xy_dist \u001b[39m=\u001b[39m distance(x, y)\n\u001b[1;32m     24\u001b[0m \u001b[39mprint\u001b[39m(xy_dist)\n\u001b[1;32m     25\u001b[0m xy_dist\u001b[39m.\u001b[39mbackward()\n",
      "Cell \u001b[0;32mIn[3], line 1\u001b[0m, in \u001b[0;36m<lambda>\u001b[0;34m(x, y)\u001b[0m\n\u001b[0;32m----> 1\u001b[0m distance \u001b[39m=\u001b[39m \u001b[39mlambda\u001b[39;00m x, y: scattering_audio_distance(x, y, S2y, sc)\n\u001b[1;32m      2\u001b[0m seed \u001b[39m=\u001b[39m \u001b[39m1\u001b[39m\n\u001b[1;32m      4\u001b[0m sp_df \u001b[39m=\u001b[39m pd\u001b[39m.\u001b[39mDataFrame(columns\u001b[39m=\u001b[39m[\n\u001b[1;32m      5\u001b[0m     \u001b[39m\"\u001b[39m\u001b[39mdensity_idx\u001b[39m\u001b[39m\"\u001b[39m, \u001b[39m\"\u001b[39m\u001b[39mslope_idx\u001b[39m\u001b[39m\"\u001b[39m, \u001b[39m\"\u001b[39m\u001b[39mdistance\u001b[39m\u001b[39m\"\u001b[39m, \u001b[39m\"\u001b[39m\u001b[39mdensity_grad\u001b[39m\u001b[39m\"\u001b[39m, \u001b[39m\"\u001b[39m\u001b[39mslope_grad\u001b[39m\u001b[39m\"\u001b[39m])\n",
      "Cell \u001b[0;32mIn[1], line 38\u001b[0m, in \u001b[0;36mscattering_audio_distance\u001b[0;34m(x, y, S2y, sc)\u001b[0m\n\u001b[1;32m     36\u001b[0m S2x \u001b[39m=\u001b[39m torch\u001b[39m.\u001b[39mstack([Sx[key] \u001b[39mfor\u001b[39;00m key, order \u001b[39min\u001b[39;00m \u001b[39mzip\u001b[39m(meta[\u001b[39m'\u001b[39m\u001b[39mkey\u001b[39m\u001b[39m'\u001b[39m], meta[\u001b[39m'\u001b[39m\u001b[39morder\u001b[39m\u001b[39m'\u001b[39m]) \u001b[39mif\u001b[39;00m order\u001b[39m==\u001b[39m\u001b[39m2\u001b[39m])\u001b[39m.\u001b[39msqueeze()\n\u001b[1;32m     37\u001b[0m \u001b[39m# inspired by Engel et al. ICLR 2020\u001b[39;00m\n\u001b[0;32m---> 38\u001b[0m lin_distance \u001b[39m=\u001b[39m torch\u001b[39m.\u001b[39;49mlinalg\u001b[39m.\u001b[39;49mnorm(S2x \u001b[39m-\u001b[39;49m S2y, p\u001b[39m=\u001b[39;49m\u001b[39m1.0\u001b[39;49m)\n\u001b[1;32m     39\u001b[0m log_distance \u001b[39m=\u001b[39m torch\u001b[39m.\u001b[39mlinalg\u001b[39m.\u001b[39mnorm(torch\u001b[39m.\u001b[39mlog1p(S2x\u001b[39m*\u001b[39m\u001b[39m1e6\u001b[39m) \u001b[39m-\u001b[39m torch\u001b[39m.\u001b[39mlog1p(S2y\u001b[39m*\u001b[39m\u001b[39m1e6\u001b[39m), p\u001b[39m=\u001b[39m\u001b[39m1.0\u001b[39m)\n\u001b[1;32m     40\u001b[0m \u001b[39mreturn\u001b[39;00m lin_distance \u001b[39m+\u001b[39m log_distance\n",
      "\u001b[0;31mTypeError\u001b[0m: linalg_norm() received an invalid combination of arguments - got (Tensor, p=float), but expected one of:\n * (Tensor input, Number ord, tuple of ints dim, bool keepdim, *, torch.dtype dtype, Tensor out)\n * (Tensor input, str ord, tuple of ints dim, bool keepdim, *, torch.dtype dtype, Tensor out)\n"
     ]
    }
   ],
   "source": [
    "distance = lambda x, y: scattering_audio_distance(x, y, S2y, sc)\n",
    "seed = 1\n",
    "\n",
    "sp_df = pd.DataFrame(columns=[\n",
    "    \"density_idx\", \"slope_idx\", \"distance\", \"density_grad\", \"slope_grad\"])\n",
    "\n",
    "for _, row in tqdm.tqdm(dataset.df.iterrows()):\n",
    "    theta_density = torch.tensor(row[\"density\"], requires_grad=False)\n",
    "    theta_slope = torch.tensor(row[\"slope\"], requires_grad=False)\n",
    "    x = synth.generate_chirp_texture(\n",
    "        theta_density=theta_density,\n",
    "        theta_slope=theta_slope,\n",
    "        duration=dataset.train_ds.duration,\n",
    "        event_duration=dataset.train_ds.event_duration,\n",
    "        sr=dataset.train_ds.sr,\n",
    "        fmin=dataset.train_ds.fmin,\n",
    "        fmax=dataset.train_ds.fmax,\n",
    "        n_events=dataset.train_ds.n_events,\n",
    "        Q=dataset.train_ds.Q,\n",
    "        hop_length=dataset.train_ds.hop_length,\n",
    "        seed=seed,\n",
    "    )\n",
    "    xy_dist = distance(x, y)\n",
    "    print(xy_dist)\n",
    "    xy_dist.backward()\n",
    "    if theta_density.grad is None:\n",
    "        theta_density.grad = torch.zeros_like(theta_density)\n",
    "    if theta_slope.grad is None:\n",
    "        theta_slope.grad = torch.zeros_like(theta_slope)\n",
    "    sp_row = {\n",
    "        \"density_idx\": int(row['density_idx']),\n",
    "        \"slope_idx\": int(row['slope_idx']),\n",
    "        \"distance\": xy_dist.item(),\n",
    "        \"density_grad\": -theta_density.grad.item(),\n",
    "        \"slope_grad\": -theta_slope.grad.item(),\n",
    "    }\n",
    "    sp_df.loc[len(sp_df)] = sp_row"
   ]
  },
  {
   "cell_type": "code",
   "execution_count": null,
   "metadata": {},
   "outputs": [],
   "source": []
  }
 ],
 "metadata": {
  "kernelspec": {
   "display_name": "scrapl",
   "language": "python",
   "name": "python3"
  },
  "language_info": {
   "codemirror_mode": {
    "name": "ipython",
    "version": 3
   },
   "file_extension": ".py",
   "mimetype": "text/x-python",
   "name": "python",
   "nbconvert_exporter": "python",
   "pygments_lexer": "ipython3",
   "version": "3.10.11"
  },
  "orig_nbformat": 4
 },
 "nbformat": 4,
 "nbformat_minor": 2
}
