{
 "cells": [
  {
   "cell_type": "code",
   "execution_count": 153,
   "metadata": {},
   "outputs": [
    {
     "name": "stdout",
     "output_type": "stream",
     "text": [
      "CQT kernels created, time used = 0.0294 seconds\n",
      "CQT kernels created, time used = 0.0222 seconds\n",
      "CQT kernels created, time used = 0.0193 seconds\n"
     ]
    }
   ],
   "source": [
    "import auraloss\n",
    "from matplotlib import pyplot as plt\n",
    "import numpy as np\n",
    "import pandas as pd\n",
    "import torch\n",
    "\n",
    "import cnn\n",
    "import synth\n",
    "\n",
    "n_densities = 7\n",
    "n_slopes = 7\n",
    "n_folds = n_densities * n_slopes\n",
    "batch_size = 1\n",
    "\n",
    "dataset = cnn.ChirpTextureDataModule(\n",
    "    n_densities=n_densities,\n",
    "    n_slopes=n_slopes,\n",
    "    n_folds=n_folds,\n",
    "    batch_size=batch_size)\n",
    "dataset.setup()\n",
    "\n",
    "mss = auraloss.freq.MultiResolutionSTFTLoss()\n"
   ]
  },
  {
   "cell_type": "code",
   "execution_count": 154,
   "metadata": {},
   "outputs": [],
   "source": [
    "for seed in [0, 1]:\n",
    "\n",
    "    y = synth.generate_chirp_texture(\n",
    "            theta_density=torch.tensor(0.5),\n",
    "            theta_slope=torch.tensor(0.),\n",
    "            duration=dataset.train_ds.duration,\n",
    "            event_duration=dataset.train_ds.event_duration,\n",
    "            sr=dataset.train_ds.sr,\n",
    "            fmin=dataset.train_ds.fmin,\n",
    "            fmax=dataset.train_ds.fmax,\n",
    "            n_events=dataset.train_ds.n_events,\n",
    "            Q=dataset.train_ds.Q,\n",
    "            hop_length=dataset.train_ds.hop_length,\n",
    "            seed=seed,\n",
    "        )\n",
    "\n",
    "    X = {}\n",
    "    mss_D = np.zeros((n_densities, n_slopes))\n",
    "    mss_df = pd.DataFrame(columns=[\n",
    "        \"density_idx\", \"slope_idx\", \"distance\", \"density_grad\", \"slope_grad\"])\n",
    "    for _, row in dataset.df.iterrows():\n",
    "        theta_density = torch.tensor(row[\"density\"], requires_grad=True)\n",
    "        theta_slope = torch.tensor(row[\"slope\"], requires_grad=True)\n",
    "        x = synth.generate_chirp_texture(\n",
    "            theta_density=theta_density,\n",
    "            theta_slope=theta_slope,\n",
    "            duration=dataset.train_ds.duration,\n",
    "            event_duration=dataset.train_ds.event_duration,\n",
    "            sr=dataset.train_ds.sr,\n",
    "            fmin=dataset.train_ds.fmin,\n",
    "            fmax=dataset.train_ds.fmax,\n",
    "            n_events=dataset.train_ds.n_events,\n",
    "            Q=dataset.train_ds.Q,\n",
    "            hop_length=dataset.train_ds.hop_length,\n",
    "            seed=0,\n",
    "        )\n",
    "        xy_dist = mss(x.unsqueeze(0).unsqueeze(0), y.unsqueeze(0).unsqueeze(0))\n",
    "        mss_D[int(row['density_idx']), int(row['slope_idx'])] = xy_dist\n",
    "        xy_dist.backward()\n",
    "        if theta_density.grad is None:\n",
    "            theta_density.grad = torch.zeros_like(theta_density)\n",
    "        if theta_slope.grad is None:\n",
    "            theta_slope.grad = torch.zeros_like(theta_slope)\n",
    "        mss_row = {\n",
    "            \"density_idx\": int(row['density_idx']),\n",
    "            \"slope_idx\": int(row['slope_idx']),\n",
    "            \"distance\": xy_dist.item(),\n",
    "            \"density_grad\": -theta_density.grad.item(),\n",
    "            \"slope_grad\": -theta_slope.grad.item(),\n",
    "        }\n",
    "        mss_df.loc[len(mss_df)] = mss_row"
   ]
  },
  {
   "cell_type": "code",
   "execution_count": 156,
   "metadata": {},
   "outputs": [
    {
     "data": {
      "image/png": "[encoded data removed]",
      "text/plain": [
       "<Figure size 250x250 with 1 Axes>"
      ]
     },
     "metadata": {},
     "output_type": "display_data"
    }
   ],
   "source": [
    "side_length = 2.5\n",
    "plt.figure(figsize=(side_length, side_length))\n",
    "plt.imshow(mss_D, cmap='gray')\n",
    "plt.quiver(\n",
    "    mss_df['density_idx'], mss_df['slope_idx'],\n",
    "    mss_df['density_grad'], mss_df['slope_grad'],\n",
    "    color='blue'\n",
    ")\n",
    "plt.xlabel('Slope')\n",
    "plt.xticks(np.arange(n_slopes))\n",
    "plt.gca().set_xticklabels([\n",
    "    \"{:.0f}\".format(10*xt) for xt in\n",
    "    np.linspace(-1, 1, n_slopes+2)[1:-1]])\n",
    "plt.yticks(np.arange(n_slopes))\n",
    "plt.gca().set_yticklabels([\n",
    "    \"{:.0f}\".format(10*xt) for xt in\n",
    "    np.linspace(0, 1, n_densities+2)[1:-1]])\n",
    "plt.ylabel('Density')\n",
    "plt.gca().invert_yaxis()"
   ]
  },
  {
   "cell_type": "code",
   "execution_count": 129,
   "metadata": {},
   "outputs": [
    {
     "data": {
      "text/html": [
       "<div>\n",
       "<style scoped>\n",
       "    .dataframe tbody tr th:only-of-type {\n",
       "        vertical-align: middle;\n",
       "    }\n",
       "\n",
       "    .dataframe tbody tr th {\n",
       "        vertical-align: top;\n",
       "    }\n",
       "\n",
       "    .dataframe thead th {\n",
       "        text-align: right;\n",
       "    }\n",
       "</style>\n",
       "<table border=\"1\" class=\"dataframe\">\n",
       "  <thead>\n",
       "    <tr style=\"text-align: right;\">\n",
       "      <th></th>\n",
       "      <th>density_idx</th>\n",
       "      <th>slope_idx</th>\n",
       "      <th>distance</th>\n",
       "      <th>density_grad</th>\n",
       "      <th>slope_grad</th>\n",
       "    </tr>\n",
       "  </thead>\n",
       "  <tbody>\n",
       "    <tr>\n",
       "      <th>0</th>\n",
       "      <td>0</td>\n",
       "      <td>0</td>\n",
       "      <td>1.764033</td>\n",
       "      <td>0.221952</td>\n",
       "      <td>-0.806022</td>\n",
       "    </tr>\n",
       "    <tr>\n",
       "      <th>1</th>\n",
       "      <td>0</td>\n",
       "      <td>1</td>\n",
       "      <td>1.648827</td>\n",
       "      <td>-0.382971</td>\n",
       "      <td>-0.448796</td>\n",
       "    </tr>\n",
       "    <tr>\n",
       "      <th>2</th>\n",
       "      <td>0</td>\n",
       "      <td>2</td>\n",
       "      <td>1.566881</td>\n",
       "      <td>-0.824355</td>\n",
       "      <td>-0.385892</td>\n",
       "    </tr>\n",
       "    <tr>\n",
       "      <th>3</th>\n",
       "      <td>0</td>\n",
       "      <td>3</td>\n",
       "      <td>1.486736</td>\n",
       "      <td>-1.366098</td>\n",
       "      <td>-0.411715</td>\n",
       "    </tr>\n",
       "    <tr>\n",
       "      <th>4</th>\n",
       "      <td>0</td>\n",
       "      <td>4</td>\n",
       "      <td>1.423097</td>\n",
       "      <td>-2.136246</td>\n",
       "      <td>0.000000</td>\n",
       "    </tr>\n",
       "    <tr>\n",
       "      <th>...</th>\n",
       "      <td>...</td>\n",
       "      <td>...</td>\n",
       "      <td>...</td>\n",
       "      <td>...</td>\n",
       "      <td>...</td>\n",
       "    </tr>\n",
       "    <tr>\n",
       "      <th>76</th>\n",
       "      <td>8</td>\n",
       "      <td>4</td>\n",
       "      <td>1.155827</td>\n",
       "      <td>0.838042</td>\n",
       "      <td>0.000000</td>\n",
       "    </tr>\n",
       "    <tr>\n",
       "      <th>77</th>\n",
       "      <td>8</td>\n",
       "      <td>5</td>\n",
       "      <td>1.431307</td>\n",
       "      <td>0.567205</td>\n",
       "      <td>1.376913</td>\n",
       "    </tr>\n",
       "    <tr>\n",
       "      <th>78</th>\n",
       "      <td>8</td>\n",
       "      <td>6</td>\n",
       "      <td>1.660099</td>\n",
       "      <td>0.432471</td>\n",
       "      <td>1.030004</td>\n",
       "    </tr>\n",
       "    <tr>\n",
       "      <th>79</th>\n",
       "      <td>8</td>\n",
       "      <td>7</td>\n",
       "      <td>1.870291</td>\n",
       "      <td>0.392078</td>\n",
       "      <td>1.342128</td>\n",
       "    </tr>\n",
       "    <tr>\n",
       "      <th>80</th>\n",
       "      <td>8</td>\n",
       "      <td>8</td>\n",
       "      <td>2.179917</td>\n",
       "      <td>0.383917</td>\n",
       "      <td>4.079405</td>\n",
       "    </tr>\n",
       "  </tbody>\n",
       "</table>\n",
       "<p>81 rows × 5 columns</p>\n",
       "</div>"
      ],
      "text/plain": [
       "    density_idx  slope_idx  distance  density_grad  slope_grad\n",
       "0             0          0  1.764033      0.221952   -0.806022\n",
       "1             0          1  1.648827     -0.382971   -0.448796\n",
       "2             0          2  1.566881     -0.824355   -0.385892\n",
       "3             0          3  1.486736     -1.366098   -0.411715\n",
       "4             0          4  1.423097     -2.136246    0.000000\n",
       "..          ...        ...       ...           ...         ...\n",
       "76            8          4  1.155827      0.838042    0.000000\n",
       "77            8          5  1.431307      0.567205    1.376913\n",
       "78            8          6  1.660099      0.432471    1.030004\n",
       "79            8          7  1.870291      0.392078    1.342128\n",
       "80            8          8  2.179917      0.383917    4.079405\n",
       "\n",
       "[81 rows x 5 columns]"
      ]
     },
     "execution_count": 129,
     "metadata": {},
     "output_type": "execute_result"
    }
   ],
   "source": [
    "mss_df"
   ]
  },
  {
   "cell_type": "code",
   "execution_count": 130,
   "metadata": {},
   "outputs": [
    {
     "data": {
      "text/plain": [
       "<matplotlib.quiver.Quiver at 0x7f86fcb7a1a0>"
      ]
     },
     "execution_count": 130,
     "metadata": {},
     "output_type": "execute_result"
    },
    {
     "data": {
      "image/png": "[encoded data removed]",
      "text/plain": [
       "<Figure size 250x250 with 1 Axes>"
      ]
     },
     "metadata": {},
     "output_type": "display_data"
    }
   ],
   "source": [
    "plt.figure(figsize=(2.5, 2.5))\n",
    "plt.quiver(\n",
    "    mss_df['density_idx'], mss_df['slope_idx'],\n",
    "    mss_df['slope_grad'], mss_df['density_grad'],\n",
    ")"
   ]
  },
  {
   "cell_type": "code",
   "execution_count": 116,
   "metadata": {},
   "outputs": [
    {
     "data": {
      "text/plain": [
       "[<matplotlib.lines.Line2D at 0x7f86ec7314e0>]"
      ]
     },
     "execution_count": 116,
     "metadata": {},
     "output_type": "execute_result"
    },
    {
     "data": {
      "image/png": "[encoded data removed]",
      "text/plain": [
       "<Figure size 640x480 with 1 Axes>"
      ]
     },
     "metadata": {},
     "output_type": "display_data"
    }
   ],
   "source": [
    "plt.plot(mss_df['density_idx'], mss_df['density_grad'], '.')"
   ]
  },
  {
   "cell_type": "code",
   "execution_count": 117,
   "metadata": {},
   "outputs": [
    {
     "data": {
      "text/plain": [
       "[<matplotlib.lines.Line2D at 0x7f86ec7b5a20>]"
      ]
     },
     "execution_count": 117,
     "metadata": {},
     "output_type": "execute_result"
    },
    {
     "data": {
      "image/png": "[encoded data removed]",
      "text/plain": [
       "<Figure size 640x480 with 1 Axes>"
      ]
     },
     "metadata": {},
     "output_type": "display_data"
    }
   ],
   "source": [
    "plt.plot(mss_df['slope_idx'], mss_df['slope_grad'], '.')"
   ]
  },
  {
   "cell_type": "code",
   "execution_count": null,
   "metadata": {},
   "outputs": [],
   "source": []
  }
 ],
 "metadata": {
  "kernelspec": {
   "display_name": "scrapl",
   "language": "python",
   "name": "python3"
  },
  "language_info": {
   "codemirror_mode": {
    "name": "ipython",
    "version": 3
   },
   "file_extension": ".py",
   "mimetype": "text/x-python",
   "name": "python",
   "nbconvert_exporter": "python",
   "pygments_lexer": "ipython3",
   "version": "3.10.11"
  },
  "orig_nbformat": 4
 },
 "nbformat": 4,
 "nbformat_minor": 2
}
