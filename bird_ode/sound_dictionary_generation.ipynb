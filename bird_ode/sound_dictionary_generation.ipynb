{
 "cells": [
  {
   "cell_type": "markdown",
   "metadata": {},
   "source": [
    "2024-12-09  \n",
    "Generation of a given quantity of samples based on the given parameters :  \n",
    "$\\alpha=\\alpha_acos(\\alpha_bt+\\frac{\\pi}{2})$  \n",
    "$\\beta=\\beta_acos(\\beta_bt+\\frac{\\pi}{2})$  \n",
    "A phase might also be added in case of necessity. Though, I don't think the necessity will ever exist."
   ]
  },
  {
   "cell_type": "code",
   "execution_count": 1,
   "metadata": {},
   "outputs": [],
   "source": [
    "# Imports\n",
    "import numpy as np\n",
    "from scipy.integrate import odeint\n",
    "import matplotlib.pyplot as plt\n",
    "import math\n",
    "import scipy.signal as signal\n",
    "from numba import njit\n",
    "from tqdm import tqdm\n",
    "from IPython import display"
   ]
  },
  {
   "cell_type": "markdown",
   "metadata": {},
   "source": [
    "# Model definition\n",
    "$\\frac{dx}{dt}=y$  \n",
    "$\\frac{dy}{dt}=-\\alpha(t)\\gamma^2-\\beta(t)\\gamma^2x-\\gamma^2x^3-\\gamma x^2y+\\gamma^2x^2-\\gamma xy$"
   ]
  },
  {
   "cell_type": "code",
   "execution_count": 2,
   "metadata": {},
   "outputs": [],
   "source": [
    "# Alpha and beta\n",
    "@njit\n",
    "def alpha_t(t, a, b):\n",
    "    return a*math.cos(b*t+(math.pi/2))\n",
    "\n",
    "@njit\n",
    "def beta_t(t, a, b):\n",
    "    return a*math.cos(b*t+(math.pi/2))\n",
    "\n",
    "# Define the system of equations\n",
    "@njit\n",
    "def system(z, t, args):\n",
    "    gamma = args[0]\n",
    "    alpha_a = args[1]\n",
    "    alpha_b = args[2]\n",
    "    beta_a = args[3]\n",
    "    beta_b = args[4]\n",
    "    x, y = z\n",
    "    dxdt = y\n",
    "    alpha_calc = alpha_t(t, alpha_a, alpha_b)\n",
    "    beta_calc = beta_t(t, beta_a, beta_b)\n",
    "    dydt = -alpha_calc*np.power(gamma, 2) - beta_calc*np.power(gamma, 2) * x - np.power(gamma, 2) * np.power(x, 3) - gamma * np.power(x, 2) * y + np.power(gamma, 2) * np.power(x, 2) - gamma * x * y\n",
    "    return [dxdt, dydt]"
   ]
  },
  {
   "cell_type": "code",
   "execution_count": 3,
   "metadata": {},
   "outputs": [],
   "source": [
    "# Define the resolution function\n",
    "def solve_system(gamma = 10000., #test\n",
    "                 alpha_a = 1.,\n",
    "                 alpha_b = 1.,\n",
    "                 beta_a = 1.,\n",
    "                 beta_b = 1.,\n",
    "                 x0 = 0.0,\n",
    "                 y0 = 1.0,\n",
    "                 time_length = 3,\n",
    "                 sr = 44100\n",
    "                 ):\n",
    "    \n",
    "    # Concatenation of initial conditions\n",
    "    z0 = np.asarray([x0, y0])\n",
    "\n",
    "    # Time vector\n",
    "    t = np.linspace(0, time_length, math.ceil(sr*time_length))\n",
    "\n",
    "    # Solve the system\n",
    "    solution = odeint(system, z0, t, args=(np.asarray([gamma, alpha_a, alpha_b, beta_a, beta_b]),))\n",
    "\n",
    "    # Extract the solutions\n",
    "    x = solution[:, 0]\n",
    "    y = solution[:, 1]\n",
    "\n",
    "    for i in range(len(x)):\n",
    "        if alpha_t(t[i], alpha_a, alpha_b) <= 0 :\n",
    "            x[i] = 0\n",
    "\n",
    "    return x, y"
   ]
  },
  {
   "cell_type": "markdown",
   "metadata": {},
   "source": [
    "Sound treatment"
   ]
  },
  {
   "cell_type": "code",
   "execution_count": 4,
   "metadata": {},
   "outputs": [],
   "source": [
    "#nu calculation, mean velocity\n",
    "def nu(x, t):\n",
    "    nu_t = np.zeros(len(x)) \n",
    "    delta_t = t[1] - t[0] #time is based on linear space => Delta(t) is a constant\n",
    "    for i in range(len(x)-1) :\n",
    "        nu_t[i] = (x[i+1] - x[i])/delta_t\n",
    "    return nu_t\n",
    "\n",
    "## P_in calculation\n",
    "# x : input\n",
    "# nu : mean velocity\n",
    "# sr : sampling frequency, used to calculate delay\n",
    "# T : delay (in seconds, arbitrarly chosen)\n",
    "# r : reflection coefficient of the trachea (chosen arbitrarly so far)\n",
    "def P_in_calculation(x, nu_t, sr, T=.01, r=.1) :\n",
    "    T_i = int(T*sr)\n",
    "    output = x*nu_t\n",
    "    for i in range(T_i, len(output)):\n",
    "        output[i] = output[i] - r*output[i-T_i]\n",
    "    return output\n",
    "\n",
    "def treat_sound(x, t, sr) :\n",
    "    #p_in calculation, based on nu\n",
    "    nu_t = nu(x, t)\n",
    "    p_in = P_in_calculation(x, nu_t, sr, r=.3)\n",
    "\n",
    "    # P_out\n",
    "    # Parameters for the Helmholtz resonator. !!! Parameters are SI !!!\n",
    "    v = 344  # Speed of sound in air (m/s)\n",
    "    A = 0.0016  # Cross-sectional area of the neck (m^2)\n",
    "    V = 0.000009425  # Volume of the cavity (m^3)\n",
    "    L = 0.03  # Length of the neck (m)\n",
    "\n",
    "    # Calculate the resonance frequency of the Helmholtz resonator\n",
    "    f0 = (v / (2 * np.pi)) * np.sqrt(A / (V * L))\n",
    "    # Create a band-pass filter around the resonance frequency\n",
    "    threshold = 500 # Arbitrary chosen, might need adjustments\n",
    "    lowcut = f0 - threshold  # Lower bound of the passband (Hz)\n",
    "    highcut = f0 + threshold  # Upper bound of the passband (Hz)\n",
    "    order = 4  # Filter order\n",
    "\n",
    "    # Normalize filtered audio\n",
    "    filtered_audio /= np.max(np.abs(filtered_audio))\n",
    "    p_out = filtered_audio\n",
    "\n",
    "    # Design the band-pass filter\n",
    "    b, a = signal.butter(order, [lowcut, highcut], fs=sr, btype='band')\n",
    "\n",
    "    # Apply the filter to the sound wave\n",
    "    p_out = signal.filtfilt(b, a, p_in) + p_in*0.2\n",
    "\n",
    "    return p_in, p_out"
   ]
  },
  {
   "cell_type": "code",
   "execution_count": 5,
   "metadata": {},
   "outputs": [],
   "source": [
    "def syllable_generation(sr = 22050, #in Hz\n",
    "                        time_length = 0.05, #in seconds\n",
    "                        gamma = 10000.0,\n",
    "                        alpha_a = 1.0,\n",
    "                        alpha_b = 1.0,\n",
    "                        beta_a = 1.0,\n",
    "                        beta_b = 1.0,\n",
    "                        x0 = 0.0,\n",
    "                        y0 = 0.0,\n",
    "                        ):\n",
    "    x, y = solve_system(gamma, alpha_a, alpha_b, beta_a, beta_b, x0, y0, time_length, sr)\n",
    "    t = np.linspace(0, time_length, math.ceil(time_length*sr))\n",
    "    p_in, p_out = treat_sound(x, t, sr)\n",
    "    return x, p_in, p_out"
   ]
  },
  {
   "cell_type": "markdown",
   "metadata": {},
   "source": [
    "# Generation\n",
    "1. Chose the maximum values of $\\alpha_a$, $\\alpha_b$, $\\beta_a$ and $\\beta_b$\n",
    "2. Parameters of the generation  \n",
    "2.1. Number of time steps  \n",
    "2.2. Time length of the sound  \n",
    "2.3. Sampling rate  \n",
    "2.4. $\\gamma$  \n",
    "2.5. Calculation of sample length\n",
    "3. Create timesteps for each variables, using ```np.linspace()``` (```np.logspace``` later ?)\n",
    "4. Create empty 4D table the size of the number of time steps\n",
    "5. Generate sounds using 4 for loops and keep in the array"
   ]
  },
  {
   "cell_type": "code",
   "execution_count": 6,
   "metadata": {},
   "outputs": [],
   "source": [
    "# 1. Maximum values\n",
    "alpha_a_range = 1\n",
    "alpha_b_range = 150\n",
    "beta_a_range = 1\n",
    "beta_b_range = 150\n",
    "\n",
    "# 2. Parameters\n",
    "timesteps = 10\n",
    "time_length = 0.3\n",
    "sr = 22050\n",
    "gamma = 10000.0\n",
    "sample_len = math.ceil(time_length*sr)\n",
    "t = np.linspace(0, time_length, math.ceil(sr*time_length))\n",
    "\n",
    "# 3. Timesteps\n",
    "t_alpha_a = np.linspace(0, alpha_a_range, timesteps)\n",
    "t_alpha_b = np.linspace(0, alpha_b_range, timesteps)\n",
    "t_beta_a = np.linspace(0, beta_a_range, timesteps)\n",
    "t_beta_b = np.linspace(0, beta_b_range, timesteps)\n",
    "\n",
    "# 4. Table generation\n",
    "gen = timesteps\n",
    "results = np.zeros((gen, gen, gen, gen, sample_len))"
   ]
  },
  {
   "cell_type": "code",
   "execution_count": 9,
   "metadata": {},
   "outputs": [
    {
     "name": "stderr",
     "output_type": "stream",
     "text": [
      "6/10 | skipped : 0: 100%|██████████| 5/5 [00:14<00:00,  2.85s/it]\n",
      "7/10 | skipped : 0: 100%|██████████| 5/5 [00:14<00:00,  2.98s/it]\n",
      "8/10 | skipped : 0: 100%|██████████| 5/5 [00:16<00:00,  3.21s/it]\n",
      "9/10 | skipped : 0: 100%|██████████| 5/5 [00:18<00:00,  3.65s/it]\n",
      "10/10 | skipped : 0: 100%|██████████| 5/5 [00:18<00:00,  3.76s/it]"
     ]
    },
    {
     "name": "stdout",
     "output_type": "stream",
     "text": [
      "Skipped: 0\n"
     ]
    },
    {
     "name": "stderr",
     "output_type": "stream",
     "text": [
      "\n"
     ]
    }
   ],
   "source": [
    "# 5. Generation\n",
    "skipped = 0\n",
    "total_skipped = 0\n",
    "for i in range(gen) :\n",
    "    pbar = tqdm(range(gen))\n",
    "    for j in pbar :\n",
    "        for k in range(gen) :\n",
    "            for l in range(gen) :\n",
    "                pbar.set_description(str(i+1) + \"/\" + str(gen))\n",
    "                _, _, results[i][j][k][l] = syllable_generation(\n",
    "                    sr, time_length, gamma, \n",
    "                    t_alpha_a[i], t_alpha_b[j], t_beta_a[k], t_beta_b[l]\n",
    "                )\n",
    "\n",
    "print(\"Skipped: \" + str(total_skipped))"
   ]
  },
  {
   "cell_type": "code",
   "execution_count": 22,
   "metadata": {},
   "outputs": [],
   "source": [
    "# np.save(\"output/data/save_bruteforce_data6\", results)"
   ]
  },
  {
   "cell_type": "code",
   "execution_count": 11,
   "metadata": {},
   "outputs": [],
   "source": [
    "res_test_load = np.load(\"output/data/save_bruteforce_data3.npy\")"
   ]
  },
  {
   "cell_type": "code",
   "execution_count": 10,
   "metadata": {},
   "outputs": [],
   "source": [
    "res_test_load = results"
   ]
  },
  {
   "cell_type": "code",
   "execution_count": 11,
   "metadata": {},
   "outputs": [
    {
     "name": "stderr",
     "output_type": "stream",
     "text": [
      "100%|██████████| 10/10 [00:00<00:00, 538.07it/s]\n"
     ]
    }
   ],
   "source": [
    "for i in tqdm(range(10)):\n",
    "    for j in range(10):\n",
    "        for k in range(10):\n",
    "            for l in range(10):\n",
    "                results[i][j][k][l] = res_test_load[i][j][k][l]"
   ]
  },
  {
   "cell_type": "code",
   "execution_count": 14,
   "metadata": {},
   "outputs": [
    {
     "data": {
      "text/html": [
       "\n",
       "                <audio  controls=\"controls\" >\n",
       "                    <source src=\"data:audio/wav;base64,UklGRtIzAABXQVZFZm10IBAAAAABAAEAIlYAAESsAAACABAAZGF0Ya4zAAAAAAAAAAAAAAAAAAAAAAAAAAAAAAAAAAAAAAAAAAAAAAAAAAAAAAAAAAAAAAAAAAAAAAAAAAAAAAAAAAAAAAAAAAAAAAAAAAAAAAAAAAAAAAAAAAAAAAAAAAAAAAAAAAAAAAAAAAAAAAAAAAAAAAAAAAAAAAAAAAAAAAAAAAAAAAAAAAAAAAAAAAAAAAAAAAAAAAAAAAAAAAAAAAAAAAAAAAAAAAAAAAAAAAAAAAAAAAAAAAAAAAAAAAAAAAAAAAAAAAAAAAAAAAAAAAAAAAAAAAAAAAAAAAAAAAAAAAAAAAAAAAAAAAAAAAAAAAAAAAAAAAAAAAAAAAAAAAAAAAAAAAAAAAAAAAAAAAAAAAAAAAAAAAAAAAAAAAAAAAAAAAAAAAAAAAAAAAAAAAAAAAAAAAAAAAAAAAAAAAAAAAAAAAAAAAAAAAAAAAAAAAAAAAAAAAAAAAAAAAAAAAAAAAAAAAAAAAAAAAAAAAAAAAAAAAAAAAAAAAAAAAAAAAAAAAAAAAAAAAAAAAAAAAAAAAAAAAAAAAAAAAAAAAAAAAAAAAAAAAAAAAAAAAAAAAAAAAAAAAAAAAAAAAAAAAAAAAAAAAAAAAAAAAAAAAAAAAAAAAAAAAAAAAAAAAAAAAAAAAAAAAAAAAAAAAAAAAAAAAAAAAAAAAAAAAAAAAAAAAAAAAAAAAAAAAAAAAAAAAAAAAAAAAAAAAAAAAAAAAAAAAAAAAAAAAAAAAAAAAAAAAAAAAAAAAAAAAAAAAAAAAAAAAAAAAAAAAAAAAAAAAAAAAAAAAAAAAAAAAAAAAAAAAAAAAAAAAAAAAAAAAAAAAAAAAAAAAAAAAAAAAAAAAAAAAAAAAAAAAAAAAAAAAAAAAAAAAAAAAAAAAAAAAAAAAAAAAAAAAAAAAAAAAAAAAAAAAAAAAAAAAAAAAAAAAAAAAAAAAAAAAAAAAAAAAAAAAAAAAAAAAAAAAAAAAAAAAAAAAAAAAAAAAAAAAAAAAAAAAAAAAAAAAAAAAAAAAAAAAAAAAAAAAAAAAAAAAAAAAAAAAAAAAAAAAAAAAAAAAAAAAAAAAAAAAAAAAAAAAAAAAAAAAAAAAAAAAAAAAAAAAAAAAAAAAAAAAAAAAAAAAAAAAAAAAAAAAAAAAAAAAAAAAAAAAAAAAAAAAAAAAAAAAAAAAAAAAAAAAAAAAAAAAAAAAAAAAAAAAAAAAAAAAAAAAAAAAAAAAAAAAAAAAAAAAAAAAAAAAAAAAAAAAAAAAAAAAAAAAAAAAAAAAAAAAAAAAAAAAAAAAAAAAAAAAAAAAAAAAAAAAAAAAAAAAAAAAAAAAAAAAAAAAAAAAAAAAAAAAAAAAAAAAAAAAAAAAAAAAAAAAAAAAAAAAAAAAAAAAAAAAAAAAAAAAAAAAAAAAAAAAAAAAAAAAAAAAAAAAAAAAAAAAAAAAAAAAAAAAAAAAAAAAAAAAAAAAAAAAAAAAAAAAAAAAAAAAAAAAAAAAAAAAAAAAAAAAAAAAAAAAAAAAAAAAAAAAAAAAAAAAAAAAAAAAAAAAAAAAAAAAAAAAAAAAAAAAAAAAAAAAAAAAAAAAAAAAAAAAAAAAAAAAAAAAAAAAAAAAAAAAAAAAAAAAAAAAAAAAAAAAAAAAAAAAAAAAAAAAAAAAAAAAAAAAAAAAAAAAAAAAAAAAAAAAAAAAAAAAAAAAAAAAAAAAAAAAAAAAAAAAAAAAAAAAAAAAAAAAAAAAAAAAAAAAAAAAAAAAAAAAAAAAAAAAAAAAAAAAAAAAAAAAAAAAAAAAAAAAAAAAAAAAAAAAAAAAAAAAAAAAAAAAAAAAAAAAAAAAAAAAAAAAAAAAAAAAAAAAAAAAAAAAAAAAAAAAAAAAAAAAAAAAAAAAAAAAAAAAAAAAAAAAAAAAAAAAAAAAAAAAAAAAAAAAAAAAAAAAAAAAAAAAAAAAAAAAAAAAAAAAAAAAAAAAAAAAAAAAAAAAAAAAAAAAAAAAAAAAAAAAAAAAAAAAAAAAAAAAAAAAAAAAAAAAAAAAAAAAAAAAAAAAAAAAAAAAAAAAAAAAAAAAAAAAAAAAAAAAAAAAAAAAAAAAAAAAAAAAAAAAAAAAAAAAAAAAAAAAAAAAAAAAAAAAAAAAAAAAAAAAAAAAAAAAAAAAAAAAAAAAAAAAAAAAAAAAAAAAAAAAAAAAAAAAAAAAAAAAAAAAAAAAAAAAAAAAAAAAAAAAAAAAAAAAAAAAAAAAAAAAAAAAAAAAAAAAAAAAAAAAAAAAAAAAAAAAD//wAAAQABAP7///8DAAMA/f/8/wMABAD9//v/AwAGAP7/+v8CAAoAAgDy//L/CgAZAAAA3v/x/yYAJADl/8//BgAuAAsA3v/n/w8AHgAHAO7/8f8HAAwA+P/w/wgAEQD0/+7/FwAeAO7/3/8IABMA9P/z/w4ACgD0//v/GAAXAO//0P/o/yQAOwD8/6//3/9dAFEAu/+b/x0AQgDa/9T/TgBQAL7/of8pAEQAt/+r/1oAbgCY/3P/twB1Acb/cP1h/lICZgPZ/kL7Q/+jBS0EPPxg+ZX/jgVGA+D8MvvZ/9IEkgSb/xX7WfsaANgEDwQV/Wz4Gv9UCqgIwflA80T/dgoWA0r2DfqlCCMK8fvN9QADUg1i/7vrgPRvEc4Vffib56z+HBlwDp7wm+mN/EQM4Anx/+X64vswAPAGEwtvAhHvM+kAAUkbVhAJ7sbpBAqWGlEE3e0b83j+Bf41AQIOog00+DHruP7xG9kVfenxzujyKy1eLJvu5c0M+q4ueh926OfUVfEOEtAYtge88ovyWggeFHAD5/AV9bH9N/gu+c4O3RqlBRzq6Ov0CDEhmw8g1hy/egUKWKo0LsIZrBYWfmD2HnOx26qaC71VzTAA0Zi55w10T7IXfMEA0BoV/xtg9zX4Lw8dCWP5cgAWCaz92fB/8rD63QSkDTwJzgAgB3EFIevq7dUdsxldyey+OTFNbI/+lZEa1xVhK1N2vnWDDPuRdH8/hrHwp2ozXXD18puKoObGXQcfIqrQ15hQ/D8ezhG/HR0kP3bux7UN8tw9ZSHf1VDejSuWNK7f9LrACcA/APlFupH8pkkIHADNQ+FVJWkf+t0O0GUL1y3fA+LcffySKMwU/N/d2xUMGh+E82badAj7LB8JPONH95ATuAen7IDqDwMOEgwDnvgfCD0NWvwo90D+dfxN+ev8nwJJB5QBWPuBDK4VpPIl21r+uR+SCkPkaOOOD5kwdgxl1wnpNxdiEGnycfHJ/4cHDwOo/GYKBhOk9BDiyQHEF10EtPCn71YA3BfzDVDw/PgbC+b4pPLqC3INtvVk7U37oBVFGizz/t8sBcwYOwCO89P3bvz4CY4HG/TM/00S/v2f8VcD4ARr/YUBYPlq9IQGWQuhAmMFqvxF8qUG0g2p9KnyQAFL/rAE0wye/BP/gxGh+kbkfAHBFRcAVOur65sHgipRFgjjreRCBa4OCg2x+J3ZrvFHJIYbOPyl+733YfRxCAgKxfTB8Dn1MACyGlsYNPiz9BP/CPl1AFUG9/Cd8bcIBAT0BYgfKQ2a37vk8QhgF+QFIN5d2gYZ0DqrCe3e6e2pCz4VsPka2P/zRSF3CBbpqAu2Ix0CaOVF7V8GDRJo9fbdmwIsJRQNdfXk/tcE0gBF92Ps9/zxEDr6Ie12EtYhtP976xj2xwQ7CUj2AOaW/1IZywip+pkFUwcz/p73GPPt/XQJiffE7lUOPB2XAhHy8/rlAxAEFPh/7gv+SQwuAaH/Og8+Cfv1tfYGAW4CUvtk8uH5cw7sDG78owIEDJH6sO43/74K2/xm7Nn11BXxHlr7S+SRAe0YcP7n5DX1YwzZBsb2c/87GEwQVulc6AUT9hak6Dnc/wY2IqoJI+sn+g8ddQ2U3NjmmR1nFejart71IJ816PpdzPb3ETaMEGrBv9qCL2wng9y12dMiSz2A9IW20fNqSM4Sx6041hxH4UB02UC9oBfCUu37rpq84bFZBSw3sgvFC0AsXMrrApqd8PRhCx6Hmf3EdE6tTkPcYbO2C5RaGxWWn+/FkUNwO87T5ccfFp0+qRCC0mPlFSFWC9XTa/LWI6cK4Oky+7ob6yGt8UTCF/haQMwHlrWv59JD6Tm65XS8xvwyS9Qa07H5vuwgLkmKGjfKKb/NKQRl2Parl/jaDDfVMXb23csa6lk2QTdq6XjJ1/IbIEAbTeCZzHsZIkE/+57WpQBAEeIKfwir3wDMcxAWQhUTftW01OoPh0XsGt699LixB0FCAzVH3r6kogDJbswsprF/vJcM4Sx+GSrq7dfeBYEmJQ8Y+mn12PAO+pD+O/v8DzoRyufo7R0hVxpk9GXxR+z26cQQYSNo/wflFu+2Dt4tyxMI0fXNVwjUJQYX5fL41s/4FDLYIS3qrN1R7IoCpB1GD47mzOyXDiEX0hBb/LXfTut7DlIO4/4U/Tv45/5xFg8SufSH6GbvaQTSF9UBjORRAPshHQvl70P2wfy4/XAAo/kW+54MnAyu/fb+RgYwASb1Ae11+gUT9wmT8LX+FBUEBqj7UANV7rfdLAmkLWEEjNPL7wUtOS7E8FLHRuOOGrwqKAMP0nvhli0rQHjuysBe/P0h5/eM6hoOigmc8VUJWBwL/AXpQv8/A6jsA/SdF0UZh/XY7NQHuxB2CIoD9t9LxIcQfGFgEFSetNu1U6o91dpVu3Hj3Rw3NeYMUNPf2pggtkBy/ky8iuhdJooGsunoDb8La+7fD8YdZeSO4XwZ1Qux2eTtsCPEJrH33trI/CMgVwgb7HjqveYFCYw+HBDcwevvtjQiDm7jx+8B8Dz6DCAIGWnwpOqTA3IcoQ+Q2uHZpxbDGTzzL//pCN35NBEkErjbZOXQHKAIjuasAM4R6AkhB/326vTHCo36TeerB7QP3fVrBRMQ9fepA+MMxubK7E0U6gAQ8V0OpQlZ+VcLhwNK8KIBq/wA6m8JYxf59rL7XA0K/XEC1gkZ6RPsxQ+lBLz8iBHk/G7uCBSCDynoR/QSAQ71FAyrFkr0j/bvDu8BL/4qA3Dque/OEj8JlfyHCwX7A/MWF/8JE90X9N4QHv2LAKAOG/xI/hkNyvk/9agEH/ZS89ALIwcCAVsPQ/x47S8OMgtK5d/0nQsu+wIGwxhi+8btawewCUD8K/al6wX7+xqBDbb0FgBXA27+PAuG+kXfof61GXf8EPivEnEGD/XyATAB1fVW+lz7uP1CCl0HmwLMCuz9qe5KAmoIAPIK9yUFsfyECuodTfyK31z/uheXAEfpDe36BJAaSg8c9mr2uwF6BRYGA/YX5gv/GhkBBYD2tghICJ34v/58ACLy9PfcCB4F+/w3A2sLmAiP+RXwLv0vCDH8QvaMAcMFgwjCDsz+m+tV/CoO0fzN71j9CQfcB0YKCQPL97r6mQL3Ad76AfSh+00OCA2O+wT8wAQRALT98P1t9AL51wwHCRD5iADXCe8ASPu++wf6of7lAab90wJMCaoAY/2lA0b+zfmq//H7JPrsB9sHoPvQAQsHtfux+9gBwfom+8MDagBwATkJMADJ+LECJwL7+Yj+hv4d+4EGHAmf/Nb+ggPw+nn+OwUs+Tn4WwfhBPT+bgV+/wb4DQPzA9b4eP0KArT9IwUpCKj7TvwyA7T8VP4EBE75gvpWC2YFkPlPAr0CzflFAOEBRPkYACUGHf4eAcUGnP0w/GQBffua/c4F6/zD+hQJdAX2+kkCtQA/9vL/HgeR+2/7XQQpA3IEOQS7+H/5bwRLAMX7qAAd/kUAMAvsAqr2+QBdBDX4YPzHBMD9Pv5dBo4C8P/NAoD9N/uz//b8uP15BSoBl/xnBTIFJv1oADX+7vQ1/xMLV//S96MC/Ae4BCcAUfjU+OUCAwMs/af+CgCKAtEIoAKI9479lAOX+6f7NgMpADz/YwapA9f8ov/zALX8FPxt/UgAGQWJAnn9AwLlBPf+Lf2W/Sj6xv61BkUBmPumAgwGpgCM/n39Gfte/jwCfwCU/98A1gFBBLACd/sl+wIBDwBW/ToAIAHkAJwECANS/Jn9vgGD/jj8WP/qAKUB1AL1AAMAgQEW/3n8I//3/yf+dwBNArUA9wFqAvz9n/3PAK7+Iv3AADgB1/8yAikCaP8XAJT/0fwZ/5AB6f4g/ykCRQHeAM0Bif4K/V8ACgBg/uQAtgDb/kICEgNT/kb+TQBG/kL/9gE5/4H+XAKzAZH/swAA/zz9jwAoAbP+VgD8AEP/2gFLAiT9zf3ZAXX/VP6RAWkAIf8MAukALP5QADAAoP3r/3QBgv+4AEsBxP6EAA4Cyv2W/VgBrP8R/7gCvACg/TgBPQKW/pL+I/9y/mEBZALU/lz/3gFWAAAAMQAa/Ur+jwIsACP+NALvAW3+dQBDAer9mv5jAPT+AwDtAW4AdwA7AeT+Cv8WAb7+pf2SAGIAKQBAAxoBpfzu/wYDAP/n/Nb+1v+tAaACmP/K/k4B5QBp/yL/mf2C/j8COQG7/k8BGgIX/67/oADc/TL+EgEQADz/ZgGtAZoARQDj/r7+iACD//b9CgBEAa0AzAEMARv+Yf+NAf3+jv3R/24AbgDPAfkAS/8bAG8AW/8r/7f+w/4jAcgBxP8UAFMBEgB8/9H/aP6T/gcBuwBS/7YAiwFEAOf/sf/h/m//4/9A/x8ARwFlACkA6wAAADT/wf82/+j+eQC3AL3/mAApAe3/wf8aACv/H/8AAMj/DAAVAXQAtv+FAGEAV/99/4f/Qv9RANkA9P8mALcA7//P/zwARv8D/0YASQDd/7IAhwCI/x4AhgCD/2D/z/+f/zoA4gAHALX/ZQAgAND/CwBZ/0L/rgCVAHf/NgDAALL/u/9JAI3/gf9PAAEA5f+SADYAw/80AOj/ev8OAPn/oP9xAGwAlv9eALkALP9A/7oAFQAR//f/wACnAEoAXf9U/4kAPAAY/87/hgDf/wMA0wDkAFwAfP4n/YIAHgRtABj78P3oBHYFq/5i+dT8OQSiBDT+CPuA/pgDegXyAQz8jvpy/vwCjgQ5APP4Gfv7Bx4Mi/4F83z6LgiuBjr5svZ5BAsMrgAK9rT+EgwBBcbvPe4fCQQZEwIF6Pz1UxX3FAP4gOja9eoI0wuDAr37k/ux/g8FegukBv3zm+ej9xQWFBgA947lSgAtG/cMVvGC7+v7SP4U/4kKDBBD/0Lsy/YVFmUclfa70CzjVh/VNJwBJ8/J6KMlvCq89rTUm+ZRCrUZ+A1t9wfw4AHbE1IKKfSj8Wz8cvo59rsH+ho9Dh3wQeiX/wsdDRrE5j28P+rpSGBMS+CQojTzBlkCPfvJr56y7HNKwUUe6pGzFfFvSIMxfNLmwHwE7iEtAA3zWwogDlb8p/yGCEoC5vK88E74mQHgCxUMOgJ2BBgJtvKf5okQXiVI4IWyqAw4bZ0onKGRsnVCjmse6QGAl85hYB1gWtRBluoI3XPUIImVS73TSqZBz7+JuSQ2HVZ762WzDAFfQ0QKIbqf2JkwyTPo5tvQ9xZQPt75KbjR7V891BS7v1LgeT6/Mx/c5dDbFQwrqu9aylL4kSw6FFfhHO7YIOcg1uys1XD9FyHHAgLaYffrKQcYaehU7eAOjQ768qbnevssEbcIgfggA+QO7wAx9sP89P2N+Zf73gCdBpAERfu5BTQXC//u29DwTBsPFTLtTt7NAEItwBwC4czc4g2xF9j4DO8Y/GsGaQUC/b4EPBRV/7/hdvZ7FvoLbPQ67rb5ERMnFSP2R/KNCfr/9u8JBUARD/xK7aH1Kg6eHfn/4d6i+B4ZPQhf9Mz2RfoCBnIL7vfN+L4QBAbv8GH+LwcK/qAALf3l8skAzAwnBGkENgFi8nH/fRCP+0zvuP6r/7oAMg3VAW/6HQ/xBFLljfYFFdUHEe9J6eT89SPPIqDu+92l/QQOFQ6XASzf+OP8GU4kKAIy+pP6s/KAAm8N1vnW72f07vqvEyseXQD28Qr+tPpH/PoHUfe/7AMEzAdWAe8Zlxh+6XLdjf9LFhoORul7068E2TrbG7Xk8uVZBMYVEQU83XjlFxq0FUnrFf6qI0EOqOlG6N/+ihKyANje5/OgIWYX9Pco+7kEHAID+8LtKfU0D50Dzeo5Bhwklgof7dLxBAESCsX9t+YQ9ZUW6Q8p+zICzwhtAJD5gfP1+PAIpP5y7O8DZR5NC2LzqPcGAiAFrvzc7rD3RgspBfn84wvpDdv5h/Ta/ucCGP4q9Br1mgm5EI//dP4RDP4A7O5m+fIJXQKU777vkgy4IX8HAeWC9pwXxAgg6Lft/AceCwz6nvmKEsQXWPMF4ogH/Rzv9dbY4fjKH3IUU/DC8BgWtRiU57LbwBCJIEjpPNQZDhw5kA9V0f7jyiujJV7RXscbHKs1eO9SzxkN+UAPDxu91NfpOrQv8MAkuz8taVIQ9qO2+vggUGMfm6gIvjNDa0rrzAOuBB+GZQISbaGAyrJPNUN2swalbS7iYJX856+Z68JQuDbLtg6puSb9TgDurL2o/ng8ESR63sfW5RThGmjdu+FcHD0XX+6Y8qcTMSXRA9zHX9/nNWAjYMJtzakweUgh/qq9YeI/Puk1o8i8rGAGuUc5Lure3bSEBu1lAiB9ooa8fiVPPCEIR9Ip2Z0jvULA/zrJnOPMFn0jV/JLx7n/80L4EiTWbfOsEWMLsAsf7nrIWfgVPsgmOOK5zbn7eT2FMdrTF66i7/83OEGK+uKnJ9q1XfdPs8qlq074HSrlIs739NW69dYjTxhN/cP2O/Fq9lr/afq6CNgW9/LO4zsVlSM+/APwz++P5uEDwySyC0zom+lCBGootiJp4ULFp/ceI/odPP5e2pbopibJLkr3YdzO58/6FBj5GITvPeWrBlMXOBNbBKDl5+KrBj8SxgEz/ef5Nfq1EIYXevyQ6U3s6vwcFXoMj+hj80IdlhWK9AfzGfuV/B4Cvfzj9fgGVhJdAsj5xgO7Bl36AOvb8aIQ6xPv8r/xWhJNE8X/pft/7EXhCgqtK1IAlNIX9bMtrSeG8mHSW+UhD+QhWgqY3wDd5hlqP+AEUcnJ7M4XXv+D82wMlv/k66IQtyRc+FfkzgQHCFLnAe28GIof//TO49UGFx1EDpT7g9vWxwgR3l7RDqickNz6VuA9L9wiwXXiPxM8MsAT/tbJ1DYYdEPTDJDC5t2eHfMK7+96Dd0E/eXbEssrT+gy2GoWsRH624fq8h2mIgz7puBA/KkeiAsN72nqFuPTAo0+gxVyvw/qJzmpFZvkm++I7enzJiBMHiTuGOTgAoUhrBfr3pTT/g68Gxr4+P6CA+PxKhJWIOviPtzLFlYNqekE/2YNeQNWB8z+J/hICdj7Geg7BjgPqvNyAlgQ9PZJAokST+yw6gMT6AHG7WUMiAvh9pMHxQU39B8FCgA557EDdhj1+Uf5rgm8+hsDvhBs7q/ohAz5BXT8xBCZ/PrpThGkFKvsOvSTAWP05wngF6f0SvLsDGgD7v6xBdTt0+4VEdEJAfy+CnL6Qe+yFYkPJ+Bc8ckQa/9DALoNaPou+60Nevwy9CQEj/nF9AQKGwbYAKwP1vsc6iwNOBCW50nxNQty/gIGyBZE+rPs9wfvCgL7PfYi71b7cxcWDZP3CwGLAHz6PAzJAIPgcvjaF7sBe/qvD2oDrvR5BH8Dt/PU96n95v87CNYF7APjC1D9Fu0kAgsL7PLS8+ADYv9EC0IcMfwa4I7/eRhDAC/oyu0jBV8YTg/8+PT2pf+nBLEHVPid5f36UBdGCND4EAeWBt34vQAnAzDxfvPqBzsIoP0sAccKnQl4+7HxHfweBlj8yPaCAMkEVgiwD/UAFOzS+tIOf/5B7vX6rQaqB78KGwUj+HH5jgP9A9T6TPIV+akMrQ7g/YD7lgOyAJb/OwAX9I70Nwp8C7v68/4bCfsB9/zn/SX6HPyTAND9/AGzCD0By/2TBL3/Gvrf/0/8SvicBQAI9PtvATYI6fyI+8gCJ/xc+hwCBP/5/6EJEwLU+AsCawON+yD/PP7w+D4EiQmM/Wj+wwPQ+/n+sAZH+qj2ggWCBF/+KwVOAB34JgOoBe75/fy1Adz8fAPSByr8J/x7A4P95/4+BQP62vjnCdoFRfkwAewCgvr1ACYDk/lH/04GNf6V/8kFI/6G/H8B4/sb/t8Gd/1L+e4HNwbh+u8AvAA692wArAfV+xT7jwQWAwgDrgPI+af5lQNjAO/83gH9/XP+cAqGBB/3Hf+dA2v5Zv0IBVX9l/3UBkQDBP/SARz+t/tF/+P8Kf71BVEB2/vYBPsFhv1u/+z9ovVU//gKhP+h95QCSQhmBOn/+/jd+PwB/gL7/eP+mf/lAcsIuwMd+H/80gI1/Db8IgOw/3f+jgb9BB79nf7HAF79OPwn/c7/lgTWAiD+5gGyBFv/ef2W/ev5I/6EBr4BaPsTAoIGbQGq/pP9APu1/RcC5ABA/zQA3AHJBHgDDPy5+ksAMgCq/fb/fwAwAK4EYgQ2/fL8RwEH/2v88P5XAPEAtQK0AX0AhgFt/8P8+/7J/9T97/8WApsA3QH/Asz+t/3DANT+yfxGACUBf/+wAV4CAgCeABgA0vyT/ngBCf+l/ogBCAH9AHwCVP8U/ScAMQBR/oIAZwBZ/tgBfwMA/4T+jAB7/hX/2AEd/+f93AHFAbj//QCZ/4T9eQA1AaT+/f+jANP+kgG8Aq/9zv3+Aen/W/5FAR4Arf7KARMBL/5RALoAF/7U/1kBgv+DAPkAYf5OAHACOv5+/WoBKwAl/1oCgQBo/QABQwKV/p/+nf/D/iMBVAIc/0X/XgHr/wIArgBk/e79dgLNAHD+yAGNAVH+egBiAdP9av6yAF7/5f/BAZQAdAD6ALP++/5DAfP+gf18ALkAUAD/AgEBqPzO/wUDDf/W/PH+/v+HAZcC4f/I/voAygCM/0v/n/0//hYCkAEB/xkB4wEd/8n/0ADW/dH9/ABrAFP/LgGjAbAAXgAF/6r+UACM/xD+7v8tAbMA2wE2ASv+Ov+VAS3/bf2T/2kAbQDSASsBWf/5/4cAk/8o/4z+iv72AOUB/f8JADcBKgCw/wUAZP4t/r4A6gB1/4sAegFnABUA6f/w/jf/u/88/wIAKgFvADgABAEsAE3/zP89/7z+NwCoAL3/igBCARUAzv85AFf/E//O/5n/4P8NAZYAwP9/AIoAkf+X/33/Df8QAMsA/v8ZALkADwDy/2oAa//o/g8ALQDE/5sAjQCS/y0AuQCz/2T/w/+G/wgAwQAEAK//aAA9APf/NQBz/yb/gwCLAGX/DQC1AMr/2f9wAKr/f/9OAP7/uf9jADIAyf80APv/n/8yAAcAif9XAGwAgv8sALEAUv9R/8EAOQAu/+b/kwCOAF4Aav8i/2YAcgBR/8H/gAACAPr/ewCxAL4ACv/Z/HP/AQTiAQf8o/wjA/8F5AAI+uf6hAJ5BTAAePsS/S0CowVyA0r9S/rx/KgB8wRoAj766Pi7BAMNBQN59KL2KQUwCdr8PfU5AAoMBgVz94P6YAmRCUP14eqUAK0YMAsn7GbuJA4cGaEAp+n1770E8QxlBfv8Mft7/R0DWgpxCb/5zugN8LQOTxwvAbLlSPZFF1sUZfcz7b/4wf7r/akGnhDRBY/vcPDNDTsfAgRu10HXnQ7wNm4UEtdA2ioXLTHsBtzYe91NAX4YPhNM/XHvPPsNEdsPQPnF7wv6c/ya9fgA9RckFdz38Obh9ngWKSAC+IbBs9O4MfVZMwKFpSfS4kVzU0TpQp0Hz8c2NlMrBqe3hdZAN+BE6+qGuR3wSSJBC0fxfwPbEM8A+flPBiMGY/bd7/H1pv5ZCbANoAQnAvwJAvvF5LMBfigT+cKy6+gDX1NMOr+mma8aeXQkFiqNGqgcPzt07/1tlOfdBGZvSSKxeJ3HKSNZFeE8p+8SeV+LDQe0+eNXPBgkp8hBxIIbBT/h/JrLpf9OPkwUdMBW1LkvhyxC0J7JUCltRIby+MfzAUQvcANizLTlECQwIrDrEeODFHgoVvw21Ynu9BzhEBTgPOhtIEskkvLv5SIHGxPL+n/n5vNhDdINDPv1/f4NQwYf95D6zf5c+nb6RP83BYcGCP0GAAQVVgrZ4SblcBKfHB74aN0z83skBSn974HVmwBsG30BYe7h92sECgfe/hEAFBI3CUjm/+sKEZcSpfkb7o70OQwfGdj+Yu6LBFkG9PAa/dwROQMP70fxUwb+HFkMSuN87KoUVxAu91L1EvnNAdEMzP079KsLFQ2285H4mwcrABf/EQDw8/f6MQzKBgwDTQRJ9aH4Nw+HA9LucfoiAUT+DwtMB8D4kQn6DDvru+wMEP8OmPTG6Cz06xlnKqj9mNsO9EIMjg79ByroNNtuC+Mo+QpE+UD8ifMT/M4NSABK8DHzi/eiCwUgGwq28RL7Df2E+ZQGKP5/6yT9RgobAAESgB/Q9j7a2vT3EtATIPUx0yPx0zL4K9nvNuD3+58T7Q2p5obbWA0OH57zS/LbHUwZKfEf5XT3uQ8CCurku+eJGOAfCv6s93ADYgPk/drwfu/ACWwLvO1D+uwgchUN8iHu4/wZCdgD/uqQ7LwPxRWw/of+yAgmA177wvRS9dYFpQRS7uz5DBvYE3n3kfSa/1EFbwBW8YzykQf7COX8JAdYEHr/ufPH+78CWwCy9mbylQP0EWgE7vuOCbYG7fHt8/gGDQcy9DPsCQMRIKwSzera7IgRpBEB79jnfwGsDbD+Q/ZDCyYbCf/x4Gj6UR1VBPbaSesIGeQcp/gV6wsMxR4E9snWTAAWJfn65tDf+R01OSKT3RTVPhpdM2DotbwIA0o7AgZYzbH2fztDJp3N2cIaI0JD/90FqysMU1hSFbC7b9wUQSM8gsOxpO4gz1x38NKjKvonYUs1u7Yjre8vJVye2eKSEAaiZUIfirhez307wU6P2BOZqAEUVhwNg72l5sgySDMC8NzOTQPsI4DtFdaTDs0gLfc87GsKIiQCEwvV48yQIZo3Z9kAu20WkE5XF7fHT808KJhHIuf/pCfpnT5bPTz22LUP5XZXFESKu8GkIQysQKwZs92QzgoNKkWMF0DQONZYCjUmdgRYyyjnsjnSKXXelOWIDlsNAAww+wrNVuJmMcM2R/NCzJrptC6AQAHvaqyy15Eoq0b4FPW2pbsdPzJouO0tpN3guiJeKeAFC9ro5qEbciCeAsf3pvI+83v+k/vZAWYX9/8d4M8Fvic8B43v2vEB5433kyBLF/ju9+Xp+pAf6Ssl9c7D6eUdHAoj3wgL4hHdNBbbNX4HWd5m4130MRB8Hnn7x+HR/NUVEBWXCvLtN95l/JYTKwY+/Zz72PecCcMZLAVr7CnqdPZ9DygUCfG06aoTjx1t/MjwsPh/+5UCZQBR86L/FxVGCbj2Ef+YCqkATetK6gMLchvA+XfnNwoaHoIIgfX352nk6QtOKrv8CNAf+eUwCiKW8GTcjutSBlgW/Qy/7R7fnweBNrMXLtnB4SQJ8wLy/esNEveY43UU0C4Q+PTdwAfCDovkFeVWF2glW/ca3NIB8SYPGEX2a9Q2ygwTW1wgDSGbKNwXWjI/U9xaxpjkvAoDLP0Y2twh0SYPEUJTGUzN6dYEEkkMF/f0Dq7//9xqEW04/PDQ0AEQXRYP4EzorhhpHSL8AOeP/Vocrw2p8h/rpOCz/PI7xBoOwE/jXjr8HWbnTO9m7OXtiB2JI53ucd0pAEclMR9m5SPQ/wUEG2X9TwCD//jpKw8DLH/uatbJDREQOu5H/uQJFf3DBI0Fjf0dCED8pen7BIEOTvIP/9cP4fYTACMWTPNR6ogQIAO16xsJFg0a9hUDXAZK+HEI7QOZ5pD9XReY/U34zQUa+G8CEhaB9WLnDgiPBvz8og+z/Lzm8AzvF2fy9fSyAXz0lwcQGB726O6ZCXIE5v9fB5/xMO/mDgIK+vutCTj6WuyoEqATA+WJ71gPvQG/ALsMPPkW+NsMWP8+9K4CQvxc97IIqASTANUP9vtx56oKARSs66buJwlwATkH3RT6+Jvr2wdoDHD6VvUY8iT9VhRTCw367gK1/lX2UwtTBivkdvOtE9IFkP65DfP/gfNGBmgG4vKg9Kz+6AIsB5cDqgRaDSf9oetKARYN7PRt8WEBawEJDdIahfvD4LX/FRl2AATn9+3kBY8WPQ6K+4r44f0uA7kIvvpB5pP3NBR6Chf8QgZ+BJ/4PQLwBazxb+9hBdQKbf9q/4gJUgom/aTz4/vjA9X7lffT/5sD+Ac2EPQCW+16+ZQOcwC37Ub40gWZB8MK8QZL+TD4sQMkBnX77PC29nAKYw+JAMv7MwLTAC8BjwLq9PLwUAbcDE398f3IB7YCd/4NACb7Bfqa/uL9eQHHB6ABSv41BT8Bxfrj/+H8KPf4An8Hk/wBAd8Ic/6T+zcDx/05+nMAoP1q/k4J6AON+TEBKARM/fH/Sf5T95gBNgm7/jj+pAO4/Hz/ywfY+8v1XAPaA/b9nAT3AIb49AL/Bn77x/xDAVf83QH8Bq38J/yAA1D+fv87Bir7yfcECPUFbvkJAK8CPPuMAVEEV/qO/hsGnP5o/l8EZf4H/ZABO/yM/sMHZv5U+FUGmwZS+67/PQAr+AgBKAhN/Mr6iwRPA+UBogKZ+kH6zQIbAOX9LwNh/vH8DQmvBUj4pP0+Akj6oP52BR393vzqBioEkP6QAFj+dvz//p38hf5zBqIBXPsJBHIGQv6x/kH9PPar/80Kr/+S92ECkghLBHv/ePk/+SsBlwK5/lz/Sf8/AX0ImQQT+cz7vAGI/O78MQNV/7X9UAYnBuT9wv04APX9jvzw/Gf/AgTdAtT+BAJiBJ//3v2l/cf5k/0WBiUCgvtuAaQGSQLy/pz9DPsk/a8BRAEw/37/qQE4BTEEyfya+n//FAAS/t3/8f94/2oEdAV3/qP8jgBe/9P8o/7Q/z8AVAJKAiUBlQGn/yf96v6W/5f9aP/BAYkAtAFYA63/BP6mAPz+nPy6//0AS/8fAVgClgAoAaMACv0d/jEBN/9a/tkArwAAAf8CMwBa/eX/QwBi/ikAEwDu/U4BrQO5/93+vgDC/v7+qgET/2/9OwG2AeP/LwElAPL9bQA2Aav+sP9GAG7+LAH5AlH+7v0EAlkAi/4BAdj/Rf5qASkBSP4+ACEBrv7d/zEBhP9fAKsABP7+/6cCwP6G/VkBnwBn/wgCOQA3/b4AOgKe/pr+/P82/wABJAJd/1b/7wBv/+D/EgHV/bX9KwJLAfL+gQEYASj+dAB+AdL9MP7YANr/6/+FAasAiADCAHr+4v5dATP/d/1PAPkAlgDOAtUAsPy0//QCIf/J/Pr+MAB1AXcCHgDo/q4AmACl/3X/tf0O/tUByAFh//8AnwEW/9///ADq/X/9vwC2AIv//gCHAcMAcwAp/6v+FwCA/zH+3/8OAbUA5wFZAUz+HP+GAV//aP1O/1UAcADMAVMBe//a/4gAzf84/2j+Vv6+AOoBOgAUABQBNADf/zwAef7e/VsA/gCt/24AVwGBAEEAHwAS/w3/hv81/+//BwFwAEgAGAFXAG3/1/9K/6H+8v+JAMD/fABNAUEA4v9PAIf/Gf+h/2n/sv/2ALIA1f92AKUAzv+6/33/5P7L/60ACAARALEAKgATAJMAmP/g/tn/CgCu/38AigCf/zcA4gDr/3T/uP90/93/lgD9/6z/ZABUABwAXgCV/xr/VAB4AFz/5v+dANz/9v+VAM7/hP9JAAAAmP8tACIA0f8yAAYAwv9XAB4Aff84AGYAef/9/5gAc/9r/8UAVQBT/+P/agBrAGgAgv8A/zIAkgCW/8T/bgAgAAQAMwBlAPUApv/b/Hb+cwMFA2L98PsrAcMF8gJo+4n5ZQCVBSgCgvwG/IoATAWyBMf+f/qt+xwAwAQ+BCn8tvc3AWwMDgdk9+nzIAE3CvYAavUH/GIKvghi+oD3UgUwDK/7Zeox+AkVvRIs84HpKwUEGm4Jge0761X/vQxCCM7+Jvt8/FQBrwjwCjv/IOyY6ssF7xxbC7jpvu0uEGgZPf/k7N30fv7J/QADRQ9PC9/0oeydBCUeuw8B4lTQlPxnMtwkteTh0JIFfzHoFqHh5tYC9/MUJRfDAx/xiPUlDIATof+q79f2hv2j9mD7qxKfGbgAgeh77yMOAyKqBwHNMMT5FfJbkyPXtGm3kClYX1ML4Kb+tX0cdVcNImTF7MGiHtROKAexuwLbvxtpFsbz8PvGEFEGF/naApkIxvoL8Lnz8ftPBgEOpgf+ALgISAK15zn0nCNFD2W+XctiRM5kPubIj1nv3mxZP/qouIwVFfh4oijCoqi4NkmiZufYb4wEAAxhTQhTpKbsNFojL03Bdcr6Ks83H99DuKsB8UBsFKvPXem1NMIqPtKTwVQZ2DvF6Hm8rg0QS8gMQ8iv7FYrQxa61XfWqhVNK1P6ZN1uBTAqTgyV2p7heRN2G23rrN0AEpIrXAC74jz9bRQmAxzqiO1VBxIRrP8Z+sYK7wri+Uj4y/67+635uP2OA2AH0/9M/PkPlxLP63DdQgYKIPwDpuAo6OIXkS+/AbDUk/FDGh8LQvCy860BpgduATz9iA1hEJ7uheQlCPAWRABL7/bwrgRUGXEIVO5n/VoKYfX39QEPGgrN8lfu9v7zGCUWYexU49sLrRZj/AP0S/gh/okLEQQW82IEbRGk+afzpQUwA8r9ZwH59jX2IAnFCXMCjQXb+dnzigq2CqLxUvWRAb/9OQdtC2n63QIwEY/0G+Z4ByIUkPvY6frtXg4yLKkNud4J6o4IuQ6+C5nydNj4+rgnfhVe+lH8DPap9h0LwQaG8pPxvvUJBLcdohPg9Bj3zf6k+PAC6gML7pL1Iwr/AfgJDSFNBSTcMepCDdQWLgDH2Czh5CNMN3P/Hd4H8yEPhBOF8ozXZ/1oIk8Azuo3E0EhbPty5K3wSgogEMjuAOBBC6EkGgeh9eEAbwTn/+D0tOzeAQcQ6fTH8NAYXR4J+s7rl/ixBt8HxvFM5+QFBxmxBJr7KgfvBR/9h/Zt8/wAdgiW8+fxwhOzGgn+d/K//KkEDwNj9VbvyAGaCyb/JwJTEMcFmvR9+O4B4AGS+drxQP1uEPcJlftTBcYKFffw71kCBwqU+YbrP/ptGnAbmfQ75v4HfBdn+OTkz/mmDd4D0PWaA1kahgoG5SXuKhgtEU/iduBuDowhKgPa6ZkAOx9aBZ/Ycu9YIooMKNVu5woqTjBG70jNuwTjNykCjLy26L42Mxx/1OLivy00NzXlzLd7BWlKmf+WqCTpHVGcMuLLGcaKKDJOa+aymd34oF/pFp2oz9Z8TwtRidaznF8I5WQ/BeSRsds4W04/gMy/umAeOlod/5mYsNqLTuMriciF0TgigjyUBN7O5e+fJI0AGdL9/MAkFwN76bkAlh/gHbvmTMOlB8dAXPbas7/4t0qJLifZB8AUDXdNZwiIqRDNzS2/Rr0NlMBAytc8K11W31mYhu0bPcYpu+zpyij2PD4pLW7emcy/+60jGRQQ1/rTJicqO+3ue9r1BgIQMwvUBL7X7tHOHVBAJQd/0BHbvRtfRnULuLSowrUUoEX6KnzOKKlKGEBxyBXlqAfJMBaeLOQSMuPc278OlyUYCv34cfRJ8f/7iv3k/JUT2gs+4/f1ciWWE57x/vEE6tXtjRc=\" type=\"audio/wav\" />\n",
       "                    Your browser does not support the audio element.\n",
       "                </audio>\n",
       "              "
      ],
      "text/plain": [
       "<IPython.lib.display.Audio object>"
      ]
     },
     "execution_count": 14,
     "metadata": {},
     "output_type": "execute_result"
    },
    {
     "data": {
      "image/png": "[encoded data removed]",
      "text/plain": [
       "<Figure size 640x480 with 1 Axes>"
      ]
     },
     "metadata": {},
     "output_type": "display_data"
    }
   ],
   "source": [
    "# Listen to one of the sound ig\n",
    "test_sound = res_test_load[5][5][5][5]\n",
    "# _, _, test_sound = syllable_generation(sr, time_length, gamma, 1, 100, 1, 100)\n",
    "# print(np.shape(test_sound))\n",
    "plt.plot(t, test_sound)\n",
    "plt.xlabel(\"Time (seconds)\")\n",
    "plt.ylabel(\"Amplitude\")\n",
    "display.Audio(test_sound, rate=sr)"
   ]
  },
  {
   "cell_type": "code",
   "execution_count": null,
   "metadata": {},
   "outputs": [],
   "source": []
  }
 ],
 "metadata": {
  "kernelspec": {
   "display_name": "base",
   "language": "python",
   "name": "python3"
  },
  "language_info": {
   "codemirror_mode": {
    "name": "ipython",
    "version": 3
   },
   "file_extension": ".py",
   "mimetype": "text/x-python",
   "name": "python",
   "nbconvert_exporter": "python",
   "pygments_lexer": "ipython3",
   "version": "3.8.3"
  }
 },
 "nbformat": 4,
 "nbformat_minor": 2
}
