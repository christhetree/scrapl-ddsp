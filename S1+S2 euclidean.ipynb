{
 "cells": [
  {
   "cell_type": "code",
   "execution_count": 1,
   "metadata": {},
   "outputs": [
    {
     "name": "stderr",
     "output_type": "stream",
     "text": [
      "2023-07-27 22:37:09.800765: I tensorflow/core/platform/cpu_feature_guard.cc:193] This TensorFlow binary is optimized with oneAPI Deep Neural Network Library (oneDNN) to use the following CPU instructions in performance-critical operations:  AVX2 AVX512F AVX512_VNNI FMA\n",
      "To enable them in other operations, rebuild TensorFlow with the appropriate compiler flags.\n"
     ]
    },
    {
     "name": "stdout",
     "output_type": "stream",
     "text": [
      "CQT kernels created, time used = 0.0196 seconds\n",
      "CQT kernels created, time used = 0.0208 seconds\n",
      "CQT kernels created, time used = 0.0177 seconds\n"
     ]
    }
   ],
   "source": [
    "import auraloss\n",
    "from kymatio.torch import TimeFrequencyScattering\n",
    "from matplotlib import pyplot as plt\n",
    "import numpy as np\n",
    "import pandas as pd\n",
    "import sys\n",
    "import torch\n",
    "import torchnmf\n",
    "import tqdm\n",
    "\n",
    "import cnn\n",
    "import synth\n",
    "\n",
    "sys.path.append('../dcase2023_task7_eval_fad')\n",
    "import audioset_model\n",
    "\n",
    "# duration = 4\n",
    "# event_duration = 2**(-4)\n",
    "# sr = 2**13\n",
    "# fmin = 2**8\n",
    "# fmax = 2**11\n",
    "# Q = 24\n",
    "# hop_length = 2**6\n",
    "# n_events = 2**6\n",
    "\n",
    "n_densities = 7\n",
    "n_slopes = 7\n",
    "n_folds = n_densities * n_slopes\n",
    "batch_size = 1\n",
    "\n",
    "dataset = cnn.ChirpTextureDataModule(\n",
    "    n_densities=n_densities,\n",
    "    n_slopes=n_slopes,\n",
    "    n_folds=n_folds,\n",
    "    batch_size=batch_size)\n",
    "dataset.setup()"
   ]
  },
  {
   "cell_type": "code",
   "execution_count": 2,
   "metadata": {},
   "outputs": [
    {
     "name": "stderr",
     "output_type": "stream",
     "text": [
      "2023-07-27 22:37:19.031971: I tensorflow/core/platform/cpu_feature_guard.cc:193] This TensorFlow binary is optimized with oneAPI Deep Neural Network Library (oneDNN) to use the following CPU instructions in performance-critical operations:  AVX2 AVX512F AVX512_VNNI FMA\n",
      "To enable them in other operations, rebuild TensorFlow with the appropriate compiler flags.\n",
      "/Users/user/miniconda3/envs/scrapl/lib/python3.10/site-packages/tensorflow/python/keras/engine/base_layer_v1.py:1694: UserWarning: `layer.apply` is deprecated and will be removed in a future version. Please use `layer.__call__` method instead.\n",
      "  warnings.warn('`layer.apply` is deprecated and '\n",
      "/Users/user/miniconda3/envs/scrapl/lib/python3.10/site-packages/tensorflow/python/keras/legacy_tf_layers/core.py:332: UserWarning: `tf.layers.flatten` is deprecated and will be removed in a future version. Please use `tf.keras.layers.Flatten` instead.\n",
      "  warnings.warn('`tf.layers.flatten` is deprecated and '\n"
     ]
    },
    {
     "name": "stdout",
     "output_type": "stream",
     "text": [
      "INFO:tensorflow:Restoring parameters from ../dcase2023_task7_eval_fad/data/vggish_model.ckpt\n"
     ]
    },
    {
     "name": "stderr",
     "output_type": "stream",
     "text": [
      "2023-07-27 22:37:19.417425: I tensorflow/compiler/mlir/mlir_graph_optimization_pass.cc:357] MLIR V1 optimization pass is not enabled\n"
     ]
    }
   ],
   "source": [
    "mss_distance = auraloss.freq.MultiResolutionSTFTLoss()\n",
    "\n",
    "def model_distance(x, y, model):\n",
    "    x_np = x[384:-384].detach().numpy()\n",
    "    y_np = y[384:-384].detach().numpy()\n",
    "    x_logmel = model.extract_features(x_np)\n",
    "    y_logmel = model.extract_features(y_np)\n",
    "    x_logmel = np.stack(x_logmel, axis=0).mean(axis=0)\n",
    "    y_logmel = np.stack(y_logmel, axis=0).mean(axis=0)\n",
    "    x_vgg = model.process_batch(x_logmel)\n",
    "    y_vgg = model.process_batch(y_logmel)\n",
    "    return np.linalg.norm(x_vgg - y_vgg)\n",
    "\n",
    "checkpoint = '../dcase2023_task7_eval_fad/data/vggish_model.ckpt'\n",
    "vggish = audioset_model.AudioSetModel(checkpoint)\n",
    "\n",
    "sc = TimeFrequencyScattering(\n",
    "    shape=(2**15),\n",
    "    J=6,\n",
    "    Q=(24, 2),\n",
    "    Q_fr=2,\n",
    "    J_fr=5,\n",
    "    T='global',\n",
    "    F='global',\n",
    "    format='time',\n",
    ")\n",
    "\n",
    "y = synth.generate_chirp_texture(\n",
    "    theta_density=torch.tensor(0.5),\n",
    "    theta_slope=torch.tensor(0.5),\n",
    "    duration=dataset.train_ds.duration,\n",
    "    event_duration=dataset.train_ds.event_duration,\n",
    "    sr=dataset.train_ds.sr,\n",
    "    fmin=dataset.train_ds.fmin,\n",
    "    fmax=dataset.train_ds.fmax,\n",
    "    n_events=dataset.train_ds.n_events,\n",
    "    Q=dataset.train_ds.Q,\n",
    "    hop_length=dataset.train_ds.hop_length,\n",
    "    seed=0,\n",
    ")\n",
    "\n",
    "Sy = sc(y)\n",
    "\n",
    "def scattering_audio_distance(x, y, Sy, sc):\n",
    "    # Skip order 0, which is not guaranteed to be nonnegative\n",
    "    Sx = sc(x)[1:]\n",
    "    return torchnmf.metrics.kl_div(Sx/Sx.sum(), Sy[1:]/Sy[1:].sum()), Sx\n",
    "\n",
    "distances = {\n",
    "    'mss': lambda x,y: mss_distance(\n",
    "        x.unsqueeze(0).unsqueeze(0), y.unsqueeze(0).unsqueeze(0)),\n",
    "    'vgg': lambda x, y: model_distance(x, y, vggish),\n",
    "    'jtfs': lambda x, y: scattering_audio_distance(x, y, Sy, sc),\n",
    "}"
   ]
  },
  {
   "cell_type": "code",
   "execution_count": 11,
   "metadata": {},
   "outputs": [
    {
     "name": "stderr",
     "output_type": "stream",
     "text": [
      "49it [00:01, 30.89it/s]\n",
      "49it [00:01, 33.63it/s]\n",
      "49it [00:03, 12.35it/s]\n",
      "49it [00:04, 11.70it/s]\n",
      "49it [14:28, 17.73s/it]\n",
      "49it [14:15, 17.47s/it]\n"
     ]
    }
   ],
   "source": [
    "out = {}\n",
    "SX = {}\n",
    "\n",
    "for distance_key, distance in distances.items():\n",
    "\n",
    "    # 0: matched seed between x and y\n",
    "    # 1: difference seed between x and y\n",
    "    for seed in [0, 1]:\n",
    "\n",
    "        X = {}\n",
    "        sp_df = pd.DataFrame(columns=[\n",
    "            \"density_idx\", \"slope_idx\", \"distance\", \"density_grad\", \"slope_grad\"])\n",
    "        for _, row in tqdm.tqdm(dataset.df.iterrows()):\n",
    "            theta_density = torch.tensor(row[\"density\"], requires_grad=False)\n",
    "            theta_slope = torch.tensor(row[\"slope\"], requires_grad=False)\n",
    "            x = synth.generate_chirp_texture(\n",
    "                theta_density=theta_density,\n",
    "                theta_slope=theta_slope,\n",
    "                duration=dataset.train_ds.duration,\n",
    "                event_duration=dataset.train_ds.event_duration,\n",
    "                sr=dataset.train_ds.sr,\n",
    "                fmin=dataset.train_ds.fmin,\n",
    "                fmax=dataset.train_ds.fmax,\n",
    "                n_events=dataset.train_ds.n_events,\n",
    "                Q=dataset.train_ds.Q,\n",
    "                hop_length=dataset.train_ds.hop_length,\n",
    "                seed=seed,\n",
    "            )\n",
    "            if distance_key == 'jtfs':\n",
    "                xy_dist, Sx = distance(x, y)\n",
    "                SX[(distance_key, seed, row[\"density\"], row[\"slope\"])] = Sx\n",
    "            else:\n",
    "                xy_dist = distance(x, y)\n",
    "            # if hasattr(xy_dist, 'backward'):\n",
    "            #     xy_dist.backward()\n",
    "            # if theta_density.grad is None:\n",
    "            #     theta_density.grad = torch.zeros_like(theta_density)\n",
    "            # if theta_slope.grad is None:\n",
    "            #     theta_slope.grad = torch.zeros_like(theta_slope)\n",
    "            sp_row = {\n",
    "                \"density_idx\": int(row['density_idx']),\n",
    "                \"slope_idx\": int(row['slope_idx']),\n",
    "                \"distance\": xy_dist.item(),\n",
    "                #\"density_grad\": -theta_density.grad.item(),\n",
    "                #\"slope_grad\": -theta_slope.grad.item(),\n",
    "            }\n",
    "            sp_df.loc[len(sp_df)] = sp_row\n",
    "        out[(distance_key, seed)] = sp_df"
   ]
  },
  {
   "cell_type": "code",
   "execution_count": 4,
   "metadata": {},
   "outputs": [
    {
     "name": "stderr",
     "output_type": "stream",
     "text": [
      "/Users/user/miniconda3/envs/scrapl/lib/python3.10/site-packages/matplotlib/quiver.py:628: RuntimeWarning: Mean of empty slice.\n",
      "  amean = a[~self.Umask].mean()\n",
      "/Users/user/miniconda3/envs/scrapl/lib/python3.10/site-packages/numpy/core/_methods.py:189: RuntimeWarning: invalid value encountered in double_scalars\n",
      "  ret = ret.dtype.type(ret / rcount)\n"
     ]
    },
    {
     "data": {
      "image/png": "[encoded data removed]",
      "text/plain": [
       "<Figure size 500x750 with 6 Axes>"
      ]
     },
     "metadata": {},
     "output_type": "display_data"
    }
   ],
   "source": [
    "side_length = 2.5\n",
    "fig, axes = plt.subplots(3, 2, figsize=(2*side_length, 3*side_length), sharex=True, sharey=True)\n",
    "\n",
    "for distance_id, distance_key in enumerate(distances.keys()):\n",
    "    for seed in [0, 1]:\n",
    "        ax = axes[distance_id, seed]\n",
    "        df = out[(distance_key, seed)]\n",
    "\n",
    "        distance_field = np.zeros((n_densities, n_slopes))\n",
    "        for density_idx in range(n_densities):\n",
    "            for slope_idx in range(n_slopes):\n",
    "                distance_field[density_idx, slope_idx] = df[\n",
    "                    (df['density_idx'] == density_idx) &\n",
    "                    (df['slope_idx'] == slope_idx)\n",
    "                ]['distance'].item()\n",
    "\n",
    "        ax.imshow(distance_field, cmap='gray_r')\n",
    "        ax.quiver(\n",
    "            df['slope_idx'], df['density_idx'],\n",
    "            df['slope_grad'], df['density_grad'],\n",
    "            color='blue'\n",
    "        )\n",
    "        # show green dot at the center\n",
    "        ax.scatter([5], [3], color='green', marker='o', s=30)\n",
    "        ax.set_xlabel('Slope')\n",
    "        ax.set_xticks(np.arange(n_slopes))\n",
    "        ax.set_xticklabels([\n",
    "            \"{:.0f}\".format(10*xt) for xt in\n",
    "            np.linspace(-1, 1, n_slopes+2)[1:-1]])\n",
    "        ax.set_yticks(np.arange(n_slopes))\n",
    "        ax.set_yticklabels([\n",
    "            \"{:.0f}\".format(10*xt) for xt in\n",
    "            np.linspace(0, 1, n_densities+2)[1:-1]])\n",
    "        if seed==0:\n",
    "            ax.set_ylabel('Density')\n",
    "        ax.invert_yaxis()\n",
    "\n",
    "        if distance_id==0:\n",
    "            if seed==0:\n",
    "                ax.set_title('Microstructure')\n",
    "            else:\n",
    "                ax.set_title('Mesostructure')\n",
    "\n",
    "    #plt.savefig('gradient_field.png', dpi=300, bbox_inches='tight')\n"
   ]
  },
  {
   "cell_type": "code",
   "execution_count": 228,
   "metadata": {},
   "outputs": [
    {
     "name": "stderr",
     "output_type": "stream",
     "text": [
      "49it [00:00, 228.03it/s]\n"
     ]
    },
    {
     "data": {
      "text/plain": [
       "<matplotlib.collections.PathCollection at 0x7fe6c8e37b80>"
      ]
     },
     "execution_count": 228,
     "metadata": {},
     "output_type": "execute_result"
    },
    {
     "data": {
      "image/png": "[encoded data removed]",
      "text/plain": [
       "<Figure size 250x250 with 1 Axes>"
      ]
     },
     "metadata": {},
     "output_type": "display_data"
    }
   ],
   "source": [
    "offset = 0\n",
    "exponent = 1\n",
    "Sy = SX[('jtfs', 0, 0.5, 0.)][offset:]**exponent\n",
    "D = np.zeros((n_densities, n_slopes))\n",
    "seed = 1\n",
    "\n",
    "for _, row in tqdm.tqdm(dataset.df.iterrows()):\n",
    "    Sm = 0.5 * (SX[('jtfs', seed, row[\"density\"], row[\"slope\"])][offset:] + Sy)\n",
    "    Sx = SX[('jtfs', seed, row[\"density\"], row[\"slope\"])][offset:]**exponent\n",
    "    xm_dist = torchnmf.metrics.kl_div(Sx/Sx.sum(), Sm/Sm.sum())\n",
    "    ym_dist = torchnmf.metrics.kl_div(Sy/Sy.sum(), Sm/Sm.sum())\n",
    "    xy_dist = torchnmf.metrics.kl_div(Sx/Sx.sum(), Sy/Sy.sum())\n",
    "    js_dist = 0.5 * (xm_dist + ym_dist)\n",
    "\n",
    "    neuc_dist = torchnmf.metrics.euclidean(Sx/Sx.sum(), Sy/Sy.sum())\n",
    "    euc_dist = torchnmf.metrics.euclidean(Sx, Sy)\n",
    "    is_dist = torchnmf.metrics.is_div(Sx, Sy)\n",
    "    logeuc_dist = torchnmf.metrics.euclidean(torch.log1p(Sx), torch.log1p(Sy))\n",
    "    l1_dist = torch.linalg.vector_norm(Sx-Sy, ord=1)\n",
    "    D[int(row['density_idx']), int(row['slope_idx'])] = euc_dist.item()\n",
    "\n",
    "\n",
    "side_length = 2.5\n",
    "fig, ax = plt.subplots(1, 1, figsize=(side_length, side_length), sharex=True, sharey=True)\n",
    "ax.imshow(np.log1p(D), cmap='gray_r')\n",
    "ax.scatter([3], [3], color='green', marker='o', s=30)\n"
   ]
  }
 ],
 "metadata": {
  "kernelspec": {
   "display_name": "scrapl",
   "language": "python",
   "name": "python3"
  },
  "language_info": {
   "codemirror_mode": {
    "name": "ipython",
    "version": 3
   },
   "file_extension": ".py",
   "mimetype": "text/x-python",
   "name": "python",
   "nbconvert_exporter": "python",
   "pygments_lexer": "ipython3",
   "version": "3.10.11"
  },
  "orig_nbformat": 4
 },
 "nbformat": 4,
 "nbformat_minor": 2
}
